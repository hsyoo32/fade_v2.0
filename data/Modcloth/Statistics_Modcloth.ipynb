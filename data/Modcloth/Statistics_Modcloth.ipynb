{
 "cells": [
  {
   "cell_type": "code",
   "execution_count": 2,
   "metadata": {},
   "outputs": [
    {
     "name": "stdout",
     "output_type": "stream",
     "text": [
      "data size after removing missing user_attr:  (91526, 5)\n",
      "data size after removing missing user_id:  (91525, 5)\n",
      "data size after binarization:  (83147, 5)\n",
      "number of users:  37142\n",
      "number of items:  1014\n",
      "number of small users:  28374\n",
      "number of large users:  8768\n",
      "number of interactions of small users:  66663\n",
      "number of interactions of large users:  16484\n"
     ]
    }
   ],
   "source": [
    "import pandas as pd\n",
    "\n",
    "data=pd.read_csv('df_modcloth.csv')\n",
    "# print(data)\n",
    "\n",
    "new_data = data[['user_id','item_id','rating','timestamp','user_attr']]\n",
    "\n",
    "# remove the data with missing (NaN) user_attr\n",
    "\n",
    "new_data = new_data.dropna(subset=['user_attr'])\n",
    "print('data size after removing missing user_attr: ', new_data.shape)\n",
    "new_data = new_data.dropna(subset=['user_id'])\n",
    "print('data size after removing missing user_id: ', new_data.shape)\n",
    "\n",
    "# remove the data with rating smaller than 3\n",
    "new_data = new_data[new_data['rating'] >= 3]\n",
    "print('data size after binarization: ', new_data.shape)\n",
    "\n",
    "# reindex the user_id and item_id start from 0\n",
    "#new_data['user_id'] = new_data['user_id'].astype('category').cat.codes\n",
    "new_data['user_id'] = new_data['user_id'].astype('category').cat.codes\n",
    "new_data['item_id'] = new_data['item_id'].astype('category').cat.codes\n",
    "#print(new_data)\n",
    "new_data = new_data.reset_index(drop=True)\n",
    "#print(new_data)\n",
    "print('number of users: ', new_data['user_id'].nunique())\n",
    "print('number of items: ', new_data['item_id'].nunique())\n",
    "\n",
    "# print(new_data['user_id'].describe())\n",
    "# print(new_data['item_id'].describe())\n",
    "\n",
    "# get unique user_attribute for each user and save to file\n",
    "user_attr = new_data[['user_id','user_attr']].drop_duplicates()\n",
    "#print(user_attr['user_attr'].value_counts())\n",
    "# if small (adv) = 0, elif Large (disadv) 1\n",
    "user_attr = user_attr.replace({'Small': 0, 'Large': 1})\n",
    "#print(user_attr['user_attr'].value_counts())\n",
    "\n",
    "user_attr.to_csv('user_attr.csv', sep='\\t', index=False)\n",
    "\n",
    "# print the number of small users and large users\n",
    "print('number of small users: ', user_attr['user_attr'].value_counts()[0])\n",
    "print('number of large users: ', user_attr['user_attr'].value_counts()[1])\n",
    "# print the number of interactions of small users and large users\n",
    "print('number of interactions of small users: ', new_data[new_data['user_attr'] == 'Small'].shape[0])\n",
    "print('number of interactions of large users: ', new_data[new_data['user_attr'] == 'Large'].shape[0])\n",
    "\n",
    "\n",
    "\n",
    "new_data = new_data[['user_id', 'item_id', 'timestamp']]\n",
    "new_data.to_csv('modcloth.csv', sep='\\t', index=False)\n",
    "\n",
    "#print(new_data)\n",
    "# show distribution of number of items rated by each user\n",
    "\n",
    "#print(new_data['user_id'].value_counts())\n",
    "\n",
    "# number of items too small -> the number of candidate negative items in test phase needs to be smaller\n"
   ]
  },
  {
   "cell_type": "code",
   "execution_count": null,
   "metadata": {},
   "outputs": [],
   "source": []
  }
 ],
 "metadata": {
  "kernelspec": {
   "display_name": "dice",
   "language": "python",
   "name": "python3"
  },
  "language_info": {
   "codemirror_mode": {
    "name": "ipython",
    "version": 3
   },
   "file_extension": ".py",
   "mimetype": "text/x-python",
   "name": "python",
   "nbconvert_exporter": "python",
   "pygments_lexer": "ipython3",
   "version": "3.7.12"
  },
  "orig_nbformat": 4
 },
 "nbformat": 4,
 "nbformat_minor": 2
}
