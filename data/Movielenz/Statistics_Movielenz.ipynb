{
 "cells": [
  {
   "cell_type": "code",
   "execution_count": 28,
   "metadata": {},
   "outputs": [
    {
     "name": "stdout",
     "output_type": "stream",
     "text": [
      "   user_id  item_id       time\n",
      "0        0        0  956703932\n",
      "1        0        1  956703954\n",
      "2        0        2  956703954\n",
      "3        0        3  956703977\n",
      "4        0        4  956703977\n",
      "      0  1   2   3\n",
      "0  6032  1   1  10\n",
      "1  6031  0  56  16\n",
      "2  6030  0  25  15\n",
      "3  6029  0  45   7\n",
      "4  6028  0  25  20\n",
      "   user_id  item_id       time  1\n",
      "0        0        0  956703932  0\n",
      "1        0        1  956703954  0\n",
      "2        0        2  956703954  0\n",
      "3        0        3  956703977  0\n",
      "4        0        4  956703977  0\n",
      "number of users:  6039\n",
      "number of items:  3628\n",
      "number of male users:  4330\n",
      "number of female users:  1709\n",
      "number of interactions of small users:  627933\n",
      "number of interactions of large users:  208545\n"
     ]
    }
   ],
   "source": [
    "import pandas as pd\n",
    "\n",
    "# read data \\t as separator\n",
    "new_data=pd.read_csv('freq.csv', sep='\\t')\n",
    "\n",
    "# read user_attr without header\n",
    "user_attr=pd.read_csv('user_attr', sep='\\t', header=None)\n",
    "print(new_data.head())\n",
    "print(user_attr.head())\n",
    "\n",
    "# add attribute (i.e., user_attr's 2nd column) to new_data's each user\n",
    "new_data[1]=new_data['user_id'].apply(lambda x: user_attr[user_attr[0]==x][1].values[0])\n",
    "print(new_data.head())\n",
    "\n",
    "\n",
    "print('number of users: ', new_data['user_id'].nunique())\n",
    "print('number of items: ', new_data['item_id'].nunique())\n",
    "\n",
    "# print the number of male users and female users\n",
    "print('number of male users: ', user_attr[1].value_counts()[0])\n",
    "print('number of female users: ', user_attr[1].value_counts()[1])\n",
    "# print the number of interactions of male users and female users\n",
    "print('number of interactions of male users: ', new_data[new_data[1] == 0].shape[0])\n",
    "print('number of interactions of female users: ', new_data[new_data[1] == 1].shape[0])"
   ]
  },
  {
   "cell_type": "code",
   "execution_count": 30,
   "metadata": {},
   "outputs": [
    {
     "name": "stdout",
     "output_type": "stream",
     "text": [
      "(836478, 4)\n"
     ]
    }
   ],
   "source": [
    "print(new_data.shape)"
   ]
  }
 ],
 "metadata": {
  "kernelspec": {
   "display_name": "dice",
   "language": "python",
   "name": "python3"
  },
  "language_info": {
   "codemirror_mode": {
    "name": "ipython",
    "version": 3
   },
   "file_extension": ".py",
   "mimetype": "text/x-python",
   "name": "python",
   "nbconvert_exporter": "python",
   "pygments_lexer": "ipython3",
   "version": "3.7.12"
  }
 },
 "nbformat": 4,
 "nbformat_minor": 2
}
